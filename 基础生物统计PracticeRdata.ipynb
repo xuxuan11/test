{
 "cells": [
  {
   "cell_type": "code",
   "execution_count": 3,
   "metadata": {},
   "outputs": [],
   "source": [
    "import numpy as np\n",
    "import pandas as pd\n",
    "from numpy import mean, median\n",
    "from numpy import mean, ptp, var, std\n",
    "import matplotlib.pyplot as plt\n",
    "import seaborn as sns\n",
    "\n",
    "import warnings\n",
    "warnings.filterwarnings('ignore')"
   ]
  },
  {
   "cell_type": "code",
   "execution_count": 6,
   "metadata": {},
   "outputs": [
    {
     "name": "stdout",
     "output_type": "stream",
     "text": [
      "训练数据集: (52, 1)\n"
     ]
    }
   ],
   "source": [
    "df=pd.read_csv(\"./Desktop/Practice1R.csv\")\n",
    "print ('训练数据集:',df.shape)"
   ]
  },
  {
   "cell_type": "code",
   "execution_count": 5,
   "metadata": {},
   "outputs": [
    {
     "data": {
      "text/html": [
       "<div>\n",
       "<style scoped>\n",
       "    .dataframe tbody tr th:only-of-type {\n",
       "        vertical-align: middle;\n",
       "    }\n",
       "\n",
       "    .dataframe tbody tr th {\n",
       "        vertical-align: top;\n",
       "    }\n",
       "\n",
       "    .dataframe thead th {\n",
       "        text-align: right;\n",
       "    }\n",
       "</style>\n",
       "<table border=\"1\" class=\"dataframe\">\n",
       "  <thead>\n",
       "    <tr style=\"text-align: right;\">\n",
       "      <th></th>\n",
       "      <th>68.2</th>\n",
       "    </tr>\n",
       "  </thead>\n",
       "  <tbody>\n",
       "    <tr>\n",
       "      <th>0</th>\n",
       "      <td>72.4</td>\n",
       "    </tr>\n",
       "    <tr>\n",
       "      <th>1</th>\n",
       "      <td>72.6</td>\n",
       "    </tr>\n",
       "    <tr>\n",
       "      <th>2</th>\n",
       "      <td>67.6</td>\n",
       "    </tr>\n",
       "    <tr>\n",
       "      <th>3</th>\n",
       "      <td>69.0</td>\n",
       "    </tr>\n",
       "    <tr>\n",
       "      <th>4</th>\n",
       "      <td>67.2</td>\n",
       "    </tr>\n",
       "  </tbody>\n",
       "</table>\n",
       "</div>"
      ],
      "text/plain": [
       "   68.2\n",
       "0  72.4\n",
       "1  72.6\n",
       "2  67.6\n",
       "3  69.0\n",
       "4  67.2"
      ]
     },
     "execution_count": 5,
     "metadata": {},
     "output_type": "execute_result"
    }
   ],
   "source": [
    "df.head()"
   ]
  },
  {
   "cell_type": "code",
   "execution_count": 9,
   "metadata": {
    "scrolled": true
   },
   "outputs": [
    {
     "name": "stdout",
     "output_type": "stream",
     "text": [
      "標本平均 68.2    69.494231\n",
      "dtype: float64\n",
      "中位数 69.9\n",
      "標準偏差 68.2    3.931109\n",
      "dtype: float64\n"
     ]
    },
    {
     "data": {
      "image/png": "[encoded data removed]",
      "text/plain": [
       "<Figure size 432x288 with 1 Axes>"
      ]
     },
     "metadata": {},
     "output_type": "display_data"
    }
   ],
   "source": [
    "# 查看数据\n",
    "df_length=len(df)  #获取数据的行数\n",
    "df_columns=df.columns.tolist()  #使用tolist()函数转化为list\n",
    "\n",
    "\n",
    "# 制作分布密度图:使用Seaborn设计作图背景样式方案\n",
    "sns.set_style(\"ticks\")   # 风格选择包括：\"white\", \"dark\", \"whitegrid\", \"darkgrid\", \"ticks\"\n",
    "sns.set_style({'font.sans-serif': ['SimHei', 'Calibri']})  #设置中文设定\n",
    "# 筛选数据: 目标字段筛选，并且去掉缺失值\n",
    "data=df\n",
    "data.dropna(inplace=True)  #去掉缺失值\n",
    "\n",
    "\n",
    "\n",
    "sns.distplot(data, hist=False, kde=True, rug=True,\n",
    "kde_kws={\"color\":\"lightseagreen\", \"lw\":1.5, 'linestyle':'--'}, \n",
    "rug_kws={'color':'lightseagreen', 'alpha':0.5, 'lw':2, 'height':0.1}, label='成绩')\n",
    "\n",
    "\n",
    "\n",
    "\n",
    "# 设置图表其他内容\n",
    "plt.ylim([0,0.15])\n",
    "plt.grid(linestyle='--')\n",
    "plt.title((\"成绩分布\"))\n",
    "print(\"標本平均\",mean(data))\n",
    "print(\"中位数\",median(data))\n",
    "print(\"標準偏差\",std(data))"
   ]
  },
  {
   "cell_type": "code",
   "execution_count": null,
   "metadata": {},
   "outputs": [],
   "source": []
  }
 ],
 "metadata": {
  "kernelspec": {
   "display_name": "Python 3",
   "language": "python",
   "name": "python3"
  },
  "language_info": {
   "codemirror_mode": {
    "name": "ipython",
    "version": 3
   },
   "file_extension": ".py",
   "mimetype": "text/x-python",
   "name": "python",
   "nbconvert_exporter": "python",
   "pygments_lexer": "ipython3",
   "version": "3.7.6"
  }
 },
 "nbformat": 4,
 "nbformat_minor": 4
}
